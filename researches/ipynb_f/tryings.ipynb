{
 "cells": [
  {
   "cell_type": "code",
   "execution_count": 1,
   "metadata": {},
   "outputs": [
    {
     "name": "stdout",
     "output_type": "stream",
     "text": [
      "1\n"
     ]
    }
   ],
   "source": [
    "a = {1,2,3,4}\n",
    "b = {4}\n",
    "print(len(a&b))"
   ]
  },
  {
   "cell_type": "code",
   "execution_count": 2,
   "metadata": {},
   "outputs": [],
   "source": [
    "import yfinance as yf"
   ]
  },
  {
   "cell_type": "code",
   "execution_count": 3,
   "metadata": {},
   "outputs": [
    {
     "name": "stdout",
     "output_type": "stream",
     "text": [
      "[*********************100%***********************]  3 of 3 completed\n"
     ]
    },
    {
     "data": {
      "text/html": [
       "<div>\n",
       "<style scoped>\n",
       "    .dataframe tbody tr th:only-of-type {\n",
       "        vertical-align: middle;\n",
       "    }\n",
       "\n",
       "    .dataframe tbody tr th {\n",
       "        vertical-align: top;\n",
       "    }\n",
       "\n",
       "    .dataframe thead th {\n",
       "        text-align: right;\n",
       "    }\n",
       "</style>\n",
       "<table border=\"1\" class=\"dataframe\">\n",
       "  <thead>\n",
       "    <tr style=\"text-align: right;\">\n",
       "      <th></th>\n",
       "      <th>AAPL</th>\n",
       "      <th>ALGN</th>\n",
       "      <th>EPAM</th>\n",
       "    </tr>\n",
       "    <tr>\n",
       "      <th>Date</th>\n",
       "      <th></th>\n",
       "      <th></th>\n",
       "      <th></th>\n",
       "    </tr>\n",
       "  </thead>\n",
       "  <tbody>\n",
       "    <tr>\n",
       "      <th>2021-12-31</th>\n",
       "      <td>175.795349</td>\n",
       "      <td>657.179993</td>\n",
       "      <td>668.450012</td>\n",
       "    </tr>\n",
       "    <tr>\n",
       "      <th>2022-01-03</th>\n",
       "      <td>180.190994</td>\n",
       "      <td>648.049988</td>\n",
       "      <td>642.200012</td>\n",
       "    </tr>\n",
       "    <tr>\n",
       "      <th>2022-01-04</th>\n",
       "      <td>177.904053</td>\n",
       "      <td>623.500000</td>\n",
       "      <td>618.710022</td>\n",
       "    </tr>\n",
       "    <tr>\n",
       "      <th>2022-01-05</th>\n",
       "      <td>173.171814</td>\n",
       "      <td>578.840027</td>\n",
       "      <td>587.799988</td>\n",
       "    </tr>\n",
       "    <tr>\n",
       "      <th>2022-01-06</th>\n",
       "      <td>170.281021</td>\n",
       "      <td>567.619995</td>\n",
       "      <td>579.049988</td>\n",
       "    </tr>\n",
       "  </tbody>\n",
       "</table>\n",
       "</div>"
      ],
      "text/plain": [
       "                  AAPL        ALGN        EPAM\n",
       "Date                                          \n",
       "2021-12-31  175.795349  657.179993  668.450012\n",
       "2022-01-03  180.190994  648.049988  642.200012\n",
       "2022-01-04  177.904053  623.500000  618.710022\n",
       "2022-01-05  173.171814  578.840027  587.799988\n",
       "2022-01-06  170.281021  567.619995  579.049988"
      ]
     },
     "execution_count": 3,
     "metadata": {},
     "output_type": "execute_result"
    }
   ],
   "source": [
    "data = yf.download(\"AAPL ALGN EPAM\", start=\"2022-01-01\")['Adj Close']\n",
    "data.head()"
   ]
  },
  {
   "cell_type": "code",
   "execution_count": 4,
   "metadata": {},
   "outputs": [
    {
     "data": {
      "text/plain": [
       "{'regularMarketPrice': None, 'preMarketPrice': None, 'logo_url': ''}"
      ]
     },
     "execution_count": 4,
     "metadata": {},
     "output_type": "execute_result"
    }
   ],
   "source": [
    "tickers_info = yf.Tickers(\"AAPL ALGN EPAM\")\n",
    "tickers_info.tickers['AAPL'].info"
   ]
  },
  {
   "cell_type": "code",
   "execution_count": 6,
   "metadata": {},
   "outputs": [],
   "source": [
    "sp10=\"AAPL MSFT AMZN GOOGL GOOG TSLA NVDA BRK-B FB UNH\"\n",
    "def get_data(stock):\n",
    "    data = yf.download(stock, start=\"2022-01-04\", end=\"2022-01-15\")\n",
    "    return data['Adj Close']"
   ]
  },
  {
   "cell_type": "code",
   "execution_count": 7,
   "metadata": {},
   "outputs": [
    {
     "name": "stdout",
     "output_type": "stream",
     "text": [
      "[*********************100%***********************]  10 of 10 completed\n",
      "\n",
      "1 Failed download:\n",
      "- FB: No data found, symbol may be delisted\n"
     ]
    },
    {
     "data": {
      "text/html": [
       "<div>\n",
       "<style scoped>\n",
       "    .dataframe tbody tr th:only-of-type {\n",
       "        vertical-align: middle;\n",
       "    }\n",
       "\n",
       "    .dataframe tbody tr th {\n",
       "        vertical-align: top;\n",
       "    }\n",
       "\n",
       "    .dataframe thead th {\n",
       "        text-align: right;\n",
       "    }\n",
       "</style>\n",
       "<table border=\"1\" class=\"dataframe\">\n",
       "  <thead>\n",
       "    <tr style=\"text-align: right;\">\n",
       "      <th></th>\n",
       "      <th>AAPL</th>\n",
       "      <th>AMZN</th>\n",
       "      <th>BRK-B</th>\n",
       "      <th>FB</th>\n",
       "      <th>GOOG</th>\n",
       "      <th>GOOGL</th>\n",
       "      <th>MSFT</th>\n",
       "      <th>NVDA</th>\n",
       "      <th>TSLA</th>\n",
       "      <th>UNH</th>\n",
       "    </tr>\n",
       "    <tr>\n",
       "      <th>Date</th>\n",
       "      <th></th>\n",
       "      <th></th>\n",
       "      <th></th>\n",
       "      <th></th>\n",
       "      <th></th>\n",
       "      <th></th>\n",
       "      <th></th>\n",
       "      <th></th>\n",
       "      <th></th>\n",
       "      <th></th>\n",
       "    </tr>\n",
       "  </thead>\n",
       "  <tbody>\n",
       "    <tr>\n",
       "      <th>2022-01-03 00:00:00</th>\n",
       "      <td>180.190964</td>\n",
       "      <td>170.404495</td>\n",
       "      <td>300.790009</td>\n",
       "      <td>NaN</td>\n",
       "      <td>145.074493</td>\n",
       "      <td>144.991501</td>\n",
       "      <td>329.394867</td>\n",
       "      <td>300.821655</td>\n",
       "      <td>399.926666</td>\n",
       "      <td>490.239929</td>\n",
       "    </tr>\n",
       "    <tr>\n",
       "      <th>2022-01-04 00:00:00</th>\n",
       "      <td>177.904053</td>\n",
       "      <td>167.522003</td>\n",
       "      <td>308.529999</td>\n",
       "      <td>NaN</td>\n",
       "      <td>144.416504</td>\n",
       "      <td>144.399506</td>\n",
       "      <td>323.746704</td>\n",
       "      <td>292.522308</td>\n",
       "      <td>383.196655</td>\n",
       "      <td>479.132751</td>\n",
       "    </tr>\n",
       "    <tr>\n",
       "      <th>2022-01-05 00:00:00</th>\n",
       "      <td>173.171814</td>\n",
       "      <td>164.356995</td>\n",
       "      <td>309.920013</td>\n",
       "      <td>NaN</td>\n",
       "      <td>137.653503</td>\n",
       "      <td>137.774994</td>\n",
       "      <td>311.318756</td>\n",
       "      <td>275.684082</td>\n",
       "      <td>362.706665</td>\n",
       "      <td>477.951721</td>\n",
       "    </tr>\n",
       "    <tr>\n",
       "      <th>2022-01-06 00:00:00</th>\n",
       "      <td>170.281021</td>\n",
       "      <td>163.253998</td>\n",
       "      <td>313.220001</td>\n",
       "      <td>NaN</td>\n",
       "      <td>137.550995</td>\n",
       "      <td>137.747498</td>\n",
       "      <td>308.858704</td>\n",
       "      <td>281.416656</td>\n",
       "      <td>354.899994</td>\n",
       "      <td>458.392090</td>\n",
       "    </tr>\n",
       "    <tr>\n",
       "      <th>2022-01-07 00:00:00</th>\n",
       "      <td>170.449310</td>\n",
       "      <td>162.554001</td>\n",
       "      <td>319.779999</td>\n",
       "      <td>NaN</td>\n",
       "      <td>137.004501</td>\n",
       "      <td>137.016998</td>\n",
       "      <td>309.016174</td>\n",
       "      <td>272.118591</td>\n",
       "      <td>342.320007</td>\n",
       "      <td>447.606995</td>\n",
       "    </tr>\n",
       "    <tr>\n",
       "      <th>2022-01-10 00:00:00</th>\n",
       "      <td>170.469101</td>\n",
       "      <td>161.485992</td>\n",
       "      <td>318.929993</td>\n",
       "      <td>NaN</td>\n",
       "      <td>138.574005</td>\n",
       "      <td>138.669495</td>\n",
       "      <td>309.242493</td>\n",
       "      <td>273.646667</td>\n",
       "      <td>352.706665</td>\n",
       "      <td>453.853546</td>\n",
       "    </tr>\n",
       "    <tr>\n",
       "      <th>2022-01-11 00:00:00</th>\n",
       "      <td>173.330231</td>\n",
       "      <td>165.362000</td>\n",
       "      <td>319.799988</td>\n",
       "      <td>NaN</td>\n",
       "      <td>140.017502</td>\n",
       "      <td>139.735992</td>\n",
       "      <td>309.941162</td>\n",
       "      <td>277.811340</td>\n",
       "      <td>354.799988</td>\n",
       "      <td>457.757660</td>\n",
       "    </tr>\n",
       "    <tr>\n",
       "      <th>2022-01-12 00:00:00</th>\n",
       "      <td>173.775726</td>\n",
       "      <td>165.207001</td>\n",
       "      <td>320.390015</td>\n",
       "      <td>NaN</td>\n",
       "      <td>141.647995</td>\n",
       "      <td>141.430496</td>\n",
       "      <td>313.178497</td>\n",
       "      <td>279.628937</td>\n",
       "      <td>368.739990</td>\n",
       "      <td>462.364594</td>\n",
       "    </tr>\n",
       "    <tr>\n",
       "      <th>2022-01-13 00:00:00</th>\n",
       "      <td>170.469101</td>\n",
       "      <td>161.214005</td>\n",
       "      <td>321.260010</td>\n",
       "      <td>NaN</td>\n",
       "      <td>139.130997</td>\n",
       "      <td>138.587006</td>\n",
       "      <td>299.923981</td>\n",
       "      <td>265.407318</td>\n",
       "      <td>343.853333</td>\n",
       "      <td>456.225311</td>\n",
       "    </tr>\n",
       "    <tr>\n",
       "      <th>2022-01-14 00:00:00</th>\n",
       "      <td>171.340347</td>\n",
       "      <td>162.138000</td>\n",
       "      <td>324.130005</td>\n",
       "      <td>NaN</td>\n",
       "      <td>139.786499</td>\n",
       "      <td>139.480499</td>\n",
       "      <td>305.237640</td>\n",
       "      <td>269.072601</td>\n",
       "      <td>349.869995</td>\n",
       "      <td>457.455139</td>\n",
       "    </tr>\n",
       "  </tbody>\n",
       "</table>\n",
       "</div>"
      ],
      "text/plain": [
       "                           AAPL        AMZN       BRK-B  FB        GOOG  \\\n",
       "Date                                                                      \n",
       "2022-01-03 00:00:00  180.190964  170.404495  300.790009 NaN  145.074493   \n",
       "2022-01-04 00:00:00  177.904053  167.522003  308.529999 NaN  144.416504   \n",
       "2022-01-05 00:00:00  173.171814  164.356995  309.920013 NaN  137.653503   \n",
       "2022-01-06 00:00:00  170.281021  163.253998  313.220001 NaN  137.550995   \n",
       "2022-01-07 00:00:00  170.449310  162.554001  319.779999 NaN  137.004501   \n",
       "2022-01-10 00:00:00  170.469101  161.485992  318.929993 NaN  138.574005   \n",
       "2022-01-11 00:00:00  173.330231  165.362000  319.799988 NaN  140.017502   \n",
       "2022-01-12 00:00:00  173.775726  165.207001  320.390015 NaN  141.647995   \n",
       "2022-01-13 00:00:00  170.469101  161.214005  321.260010 NaN  139.130997   \n",
       "2022-01-14 00:00:00  171.340347  162.138000  324.130005 NaN  139.786499   \n",
       "\n",
       "                          GOOGL        MSFT        NVDA        TSLA  \\\n",
       "Date                                                                  \n",
       "2022-01-03 00:00:00  144.991501  329.394867  300.821655  399.926666   \n",
       "2022-01-04 00:00:00  144.399506  323.746704  292.522308  383.196655   \n",
       "2022-01-05 00:00:00  137.774994  311.318756  275.684082  362.706665   \n",
       "2022-01-06 00:00:00  137.747498  308.858704  281.416656  354.899994   \n",
       "2022-01-07 00:00:00  137.016998  309.016174  272.118591  342.320007   \n",
       "2022-01-10 00:00:00  138.669495  309.242493  273.646667  352.706665   \n",
       "2022-01-11 00:00:00  139.735992  309.941162  277.811340  354.799988   \n",
       "2022-01-12 00:00:00  141.430496  313.178497  279.628937  368.739990   \n",
       "2022-01-13 00:00:00  138.587006  299.923981  265.407318  343.853333   \n",
       "2022-01-14 00:00:00  139.480499  305.237640  269.072601  349.869995   \n",
       "\n",
       "                            UNH  \n",
       "Date                             \n",
       "2022-01-03 00:00:00  490.239929  \n",
       "2022-01-04 00:00:00  479.132751  \n",
       "2022-01-05 00:00:00  477.951721  \n",
       "2022-01-06 00:00:00  458.392090  \n",
       "2022-01-07 00:00:00  447.606995  \n",
       "2022-01-10 00:00:00  453.853546  \n",
       "2022-01-11 00:00:00  457.757660  \n",
       "2022-01-12 00:00:00  462.364594  \n",
       "2022-01-13 00:00:00  456.225311  \n",
       "2022-01-14 00:00:00  457.455139  "
      ]
     },
     "execution_count": 7,
     "metadata": {},
     "output_type": "execute_result"
    }
   ],
   "source": [
    "data = get_data(sp10)\n",
    "data.head(10)"
   ]
  },
  {
   "cell_type": "code",
   "execution_count": 9,
   "metadata": {},
   "outputs": [
    {
     "name": "stdout",
     "output_type": "stream",
     "text": [
      "AAPL\n",
      "AMZN\n",
      "BRK-B\n",
      "FB\n",
      "GOOG\n",
      "GOOGL\n",
      "MSFT\n",
      "NVDA\n",
      "TSLA\n",
      "UNH\n"
     ]
    }
   ],
   "source": [
    "# [{'color': value} for value in colors]\n",
    "symbol_names_for_inserting = data.columns\n",
    "for i in symbol_names_for_inserting:\n",
    "    print(i)\n"
   ]
  },
  {
   "cell_type": "code",
   "execution_count": 10,
   "metadata": {},
   "outputs": [],
   "source": [
    "from app.hello import db\n",
    "from app.models import Price, Symbol"
   ]
  },
  {
   "cell_type": "code",
   "execution_count": 11,
   "metadata": {},
   "outputs": [
    {
     "ename": "OperationalError",
     "evalue": "(psycopg2.OperationalError) connection to server at \"localhost\" (::1), port 5432 failed: Connection refused (0x0000274D/10061)\n\tIs the server running on that host and accepting TCP/IP connections?\nconnection to server at \"localhost\" (127.0.0.1), port 5432 failed: Connection refused (0x0000274D/10061)\n\tIs the server running on that host and accepting TCP/IP connections?\n\n(Background on this error at: https://sqlalche.me/e/14/e3q8)",
     "output_type": "error",
     "traceback": [
      "\u001b[1;31m---------------------------------------------------------------------------\u001b[0m",
      "\u001b[1;31mOperationalError\u001b[0m                          Traceback (most recent call last)",
      "File \u001b[1;32mc:\\py_projects\\pairs_flask\\env\\lib\\site-packages\\sqlalchemy\\engine\\base.py:3256\u001b[0m, in \u001b[0;36mEngine._wrap_pool_connect\u001b[1;34m(self, fn, connection)\u001b[0m\n\u001b[0;32m   3255\u001b[0m \u001b[39mtry\u001b[39;00m:\n\u001b[1;32m-> 3256\u001b[0m     \u001b[39mreturn\u001b[39;00m fn()\n\u001b[0;32m   3257\u001b[0m \u001b[39mexcept\u001b[39;00m dialect\u001b[39m.\u001b[39mdbapi\u001b[39m.\u001b[39mError \u001b[39mas\u001b[39;00m e:\n",
      "File \u001b[1;32mc:\\py_projects\\pairs_flask\\env\\lib\\site-packages\\sqlalchemy\\pool\\base.py:310\u001b[0m, in \u001b[0;36mPool.connect\u001b[1;34m(self)\u001b[0m\n\u001b[0;32m    303\u001b[0m \u001b[39m\"\"\"Return a DBAPI connection from the pool.\u001b[39;00m\n\u001b[0;32m    304\u001b[0m \n\u001b[0;32m    305\u001b[0m \u001b[39mThe connection is instrumented such that when its\u001b[39;00m\n\u001b[1;32m   (...)\u001b[0m\n\u001b[0;32m    308\u001b[0m \n\u001b[0;32m    309\u001b[0m \u001b[39m\"\"\"\u001b[39;00m\n\u001b[1;32m--> 310\u001b[0m \u001b[39mreturn\u001b[39;00m _ConnectionFairy\u001b[39m.\u001b[39;49m_checkout(\u001b[39mself\u001b[39;49m)\n",
      "File \u001b[1;32mc:\\py_projects\\pairs_flask\\env\\lib\\site-packages\\sqlalchemy\\pool\\base.py:868\u001b[0m, in \u001b[0;36m_ConnectionFairy._checkout\u001b[1;34m(cls, pool, threadconns, fairy)\u001b[0m\n\u001b[0;32m    867\u001b[0m \u001b[39mif\u001b[39;00m \u001b[39mnot\u001b[39;00m fairy:\n\u001b[1;32m--> 868\u001b[0m     fairy \u001b[39m=\u001b[39m _ConnectionRecord\u001b[39m.\u001b[39;49mcheckout(pool)\n\u001b[0;32m    870\u001b[0m     fairy\u001b[39m.\u001b[39m_pool \u001b[39m=\u001b[39m pool\n",
      "File \u001b[1;32mc:\\py_projects\\pairs_flask\\env\\lib\\site-packages\\sqlalchemy\\pool\\base.py:476\u001b[0m, in \u001b[0;36m_ConnectionRecord.checkout\u001b[1;34m(cls, pool)\u001b[0m\n\u001b[0;32m    474\u001b[0m \u001b[39m@classmethod\u001b[39m\n\u001b[0;32m    475\u001b[0m \u001b[39mdef\u001b[39;00m \u001b[39mcheckout\u001b[39m(\u001b[39mcls\u001b[39m, pool):\n\u001b[1;32m--> 476\u001b[0m     rec \u001b[39m=\u001b[39m pool\u001b[39m.\u001b[39;49m_do_get()\n\u001b[0;32m    477\u001b[0m     \u001b[39mtry\u001b[39;00m:\n",
      "File \u001b[1;32mc:\\py_projects\\pairs_flask\\env\\lib\\site-packages\\sqlalchemy\\pool\\impl.py:145\u001b[0m, in \u001b[0;36mQueuePool._do_get\u001b[1;34m(self)\u001b[0m\n\u001b[0;32m    144\u001b[0m \u001b[39mexcept\u001b[39;00m:\n\u001b[1;32m--> 145\u001b[0m     \u001b[39mwith\u001b[39;00m util\u001b[39m.\u001b[39msafe_reraise():\n\u001b[0;32m    146\u001b[0m         \u001b[39mself\u001b[39m\u001b[39m.\u001b[39m_dec_overflow()\n",
      "File \u001b[1;32mc:\\py_projects\\pairs_flask\\env\\lib\\site-packages\\sqlalchemy\\util\\langhelpers.py:70\u001b[0m, in \u001b[0;36msafe_reraise.__exit__\u001b[1;34m(self, type_, value, traceback)\u001b[0m\n\u001b[0;32m     69\u001b[0m     \u001b[39mif\u001b[39;00m \u001b[39mnot\u001b[39;00m \u001b[39mself\u001b[39m\u001b[39m.\u001b[39mwarn_only:\n\u001b[1;32m---> 70\u001b[0m         compat\u001b[39m.\u001b[39;49mraise_(\n\u001b[0;32m     71\u001b[0m             exc_value,\n\u001b[0;32m     72\u001b[0m             with_traceback\u001b[39m=\u001b[39;49mexc_tb,\n\u001b[0;32m     73\u001b[0m         )\n\u001b[0;32m     74\u001b[0m \u001b[39melse\u001b[39;00m:\n",
      "File \u001b[1;32mc:\\py_projects\\pairs_flask\\env\\lib\\site-packages\\sqlalchemy\\util\\compat.py:207\u001b[0m, in \u001b[0;36mraise_\u001b[1;34m(***failed resolving arguments***)\u001b[0m\n\u001b[0;32m    206\u001b[0m \u001b[39mtry\u001b[39;00m:\n\u001b[1;32m--> 207\u001b[0m     \u001b[39mraise\u001b[39;00m exception\n\u001b[0;32m    208\u001b[0m \u001b[39mfinally\u001b[39;00m:\n\u001b[0;32m    209\u001b[0m     \u001b[39m# credit to\u001b[39;00m\n\u001b[0;32m    210\u001b[0m     \u001b[39m# https://cosmicpercolator.com/2016/01/13/exception-leaks-in-python-2-and-3/\u001b[39;00m\n\u001b[0;32m    211\u001b[0m     \u001b[39m# as the __traceback__ object creates a cycle\u001b[39;00m\n",
      "File \u001b[1;32mc:\\py_projects\\pairs_flask\\env\\lib\\site-packages\\sqlalchemy\\pool\\impl.py:143\u001b[0m, in \u001b[0;36mQueuePool._do_get\u001b[1;34m(self)\u001b[0m\n\u001b[0;32m    142\u001b[0m \u001b[39mtry\u001b[39;00m:\n\u001b[1;32m--> 143\u001b[0m     \u001b[39mreturn\u001b[39;00m \u001b[39mself\u001b[39;49m\u001b[39m.\u001b[39;49m_create_connection()\n\u001b[0;32m    144\u001b[0m \u001b[39mexcept\u001b[39;00m:\n",
      "File \u001b[1;32mc:\\py_projects\\pairs_flask\\env\\lib\\site-packages\\sqlalchemy\\pool\\base.py:256\u001b[0m, in \u001b[0;36mPool._create_connection\u001b[1;34m(self)\u001b[0m\n\u001b[0;32m    254\u001b[0m \u001b[39m\"\"\"Called by subclasses to create a new ConnectionRecord.\"\"\"\u001b[39;00m\n\u001b[1;32m--> 256\u001b[0m \u001b[39mreturn\u001b[39;00m _ConnectionRecord(\u001b[39mself\u001b[39;49m)\n",
      "File \u001b[1;32mc:\\py_projects\\pairs_flask\\env\\lib\\site-packages\\sqlalchemy\\pool\\base.py:371\u001b[0m, in \u001b[0;36m_ConnectionRecord.__init__\u001b[1;34m(self, pool, connect)\u001b[0m\n\u001b[0;32m    370\u001b[0m \u001b[39mif\u001b[39;00m connect:\n\u001b[1;32m--> 371\u001b[0m     \u001b[39mself\u001b[39;49m\u001b[39m.\u001b[39;49m__connect()\n\u001b[0;32m    372\u001b[0m \u001b[39mself\u001b[39m\u001b[39m.\u001b[39mfinalize_callback \u001b[39m=\u001b[39m deque()\n",
      "File \u001b[1;32mc:\\py_projects\\pairs_flask\\env\\lib\\site-packages\\sqlalchemy\\pool\\base.py:665\u001b[0m, in \u001b[0;36m_ConnectionRecord.__connect\u001b[1;34m(self)\u001b[0m\n\u001b[0;32m    664\u001b[0m \u001b[39mexcept\u001b[39;00m \u001b[39mException\u001b[39;00m \u001b[39mas\u001b[39;00m e:\n\u001b[1;32m--> 665\u001b[0m     \u001b[39mwith\u001b[39;00m util\u001b[39m.\u001b[39msafe_reraise():\n\u001b[0;32m    666\u001b[0m         pool\u001b[39m.\u001b[39mlogger\u001b[39m.\u001b[39mdebug(\u001b[39m\"\u001b[39m\u001b[39mError on connect(): \u001b[39m\u001b[39m%s\u001b[39;00m\u001b[39m\"\u001b[39m, e)\n",
      "File \u001b[1;32mc:\\py_projects\\pairs_flask\\env\\lib\\site-packages\\sqlalchemy\\util\\langhelpers.py:70\u001b[0m, in \u001b[0;36msafe_reraise.__exit__\u001b[1;34m(self, type_, value, traceback)\u001b[0m\n\u001b[0;32m     69\u001b[0m     \u001b[39mif\u001b[39;00m \u001b[39mnot\u001b[39;00m \u001b[39mself\u001b[39m\u001b[39m.\u001b[39mwarn_only:\n\u001b[1;32m---> 70\u001b[0m         compat\u001b[39m.\u001b[39;49mraise_(\n\u001b[0;32m     71\u001b[0m             exc_value,\n\u001b[0;32m     72\u001b[0m             with_traceback\u001b[39m=\u001b[39;49mexc_tb,\n\u001b[0;32m     73\u001b[0m         )\n\u001b[0;32m     74\u001b[0m \u001b[39melse\u001b[39;00m:\n",
      "File \u001b[1;32mc:\\py_projects\\pairs_flask\\env\\lib\\site-packages\\sqlalchemy\\util\\compat.py:207\u001b[0m, in \u001b[0;36mraise_\u001b[1;34m(***failed resolving arguments***)\u001b[0m\n\u001b[0;32m    206\u001b[0m \u001b[39mtry\u001b[39;00m:\n\u001b[1;32m--> 207\u001b[0m     \u001b[39mraise\u001b[39;00m exception\n\u001b[0;32m    208\u001b[0m \u001b[39mfinally\u001b[39;00m:\n\u001b[0;32m    209\u001b[0m     \u001b[39m# credit to\u001b[39;00m\n\u001b[0;32m    210\u001b[0m     \u001b[39m# https://cosmicpercolator.com/2016/01/13/exception-leaks-in-python-2-and-3/\u001b[39;00m\n\u001b[0;32m    211\u001b[0m     \u001b[39m# as the __traceback__ object creates a cycle\u001b[39;00m\n",
      "File \u001b[1;32mc:\\py_projects\\pairs_flask\\env\\lib\\site-packages\\sqlalchemy\\pool\\base.py:661\u001b[0m, in \u001b[0;36m_ConnectionRecord.__connect\u001b[1;34m(self)\u001b[0m\n\u001b[0;32m    660\u001b[0m \u001b[39mself\u001b[39m\u001b[39m.\u001b[39mstarttime \u001b[39m=\u001b[39m time\u001b[39m.\u001b[39mtime()\n\u001b[1;32m--> 661\u001b[0m \u001b[39mself\u001b[39m\u001b[39m.\u001b[39mdbapi_connection \u001b[39m=\u001b[39m connection \u001b[39m=\u001b[39m pool\u001b[39m.\u001b[39;49m_invoke_creator(\u001b[39mself\u001b[39;49m)\n\u001b[0;32m    662\u001b[0m pool\u001b[39m.\u001b[39mlogger\u001b[39m.\u001b[39mdebug(\u001b[39m\"\u001b[39m\u001b[39mCreated new connection \u001b[39m\u001b[39m%r\u001b[39;00m\u001b[39m\"\u001b[39m, connection)\n",
      "File \u001b[1;32mc:\\py_projects\\pairs_flask\\env\\lib\\site-packages\\sqlalchemy\\engine\\create.py:590\u001b[0m, in \u001b[0;36mcreate_engine.<locals>.connect\u001b[1;34m(connection_record)\u001b[0m\n\u001b[0;32m    589\u001b[0m             \u001b[39mreturn\u001b[39;00m connection\n\u001b[1;32m--> 590\u001b[0m \u001b[39mreturn\u001b[39;00m dialect\u001b[39m.\u001b[39mconnect(\u001b[39m*\u001b[39mcargs, \u001b[39m*\u001b[39m\u001b[39m*\u001b[39mcparams)\n",
      "File \u001b[1;32mc:\\py_projects\\pairs_flask\\env\\lib\\site-packages\\sqlalchemy\\engine\\default.py:597\u001b[0m, in \u001b[0;36mDefaultDialect.connect\u001b[1;34m(self, *cargs, **cparams)\u001b[0m\n\u001b[0;32m    595\u001b[0m \u001b[39mdef\u001b[39;00m \u001b[39mconnect\u001b[39m(\u001b[39mself\u001b[39m, \u001b[39m*\u001b[39mcargs, \u001b[39m*\u001b[39m\u001b[39m*\u001b[39mcparams):\n\u001b[0;32m    596\u001b[0m     \u001b[39m# inherits the docstring from interfaces.Dialect.connect\u001b[39;00m\n\u001b[1;32m--> 597\u001b[0m     \u001b[39mreturn\u001b[39;00m \u001b[39mself\u001b[39m\u001b[39m.\u001b[39mdbapi\u001b[39m.\u001b[39mconnect(\u001b[39m*\u001b[39mcargs, \u001b[39m*\u001b[39m\u001b[39m*\u001b[39mcparams)\n",
      "File \u001b[1;32mc:\\py_projects\\pairs_flask\\env\\lib\\site-packages\\psycopg2\\__init__.py:122\u001b[0m, in \u001b[0;36mconnect\u001b[1;34m(dsn, connection_factory, cursor_factory, **kwargs)\u001b[0m\n\u001b[0;32m    121\u001b[0m dsn \u001b[39m=\u001b[39m _ext\u001b[39m.\u001b[39mmake_dsn(dsn, \u001b[39m*\u001b[39m\u001b[39m*\u001b[39mkwargs)\n\u001b[1;32m--> 122\u001b[0m conn \u001b[39m=\u001b[39m _connect(dsn, connection_factory\u001b[39m=\u001b[39mconnection_factory, \u001b[39m*\u001b[39m\u001b[39m*\u001b[39mkwasync)\n\u001b[0;32m    123\u001b[0m \u001b[39mif\u001b[39;00m cursor_factory \u001b[39mis\u001b[39;00m \u001b[39mnot\u001b[39;00m \u001b[39mNone\u001b[39;00m:\n",
      "\u001b[1;31mOperationalError\u001b[0m: connection to server at \"localhost\" (::1), port 5432 failed: Connection refused (0x0000274D/10061)\n\tIs the server running on that host and accepting TCP/IP connections?\nconnection to server at \"localhost\" (127.0.0.1), port 5432 failed: Connection refused (0x0000274D/10061)\n\tIs the server running on that host and accepting TCP/IP connections?\n",
      "\nThe above exception was the direct cause of the following exception:\n",
      "\u001b[1;31mOperationalError\u001b[0m                          Traceback (most recent call last)",
      "\u001b[1;32mc:\\py_projects\\pairs_flask\\tryings.ipynb Cell 9\u001b[0m line \u001b[0;36m<module>\u001b[1;34m\u001b[0m\n\u001b[1;32m----> <a href='vscode-notebook-cell:/c%3A/py_projects/pairs_flask/tryings.ipynb#X11sZmlsZQ%3D%3D?line=0'>1</a>\u001b[0m db\u001b[39m.\u001b[39;49mdrop_all()\n\u001b[0;32m      <a href='vscode-notebook-cell:/c%3A/py_projects/pairs_flask/tryings.ipynb#X11sZmlsZQ%3D%3D?line=1'>2</a>\u001b[0m db\u001b[39m.\u001b[39mcreate_all()\n",
      "File \u001b[1;32mc:\\py_projects\\pairs_flask\\env\\lib\\site-packages\\flask_sqlalchemy\\__init__.py:1102\u001b[0m, in \u001b[0;36mSQLAlchemy.drop_all\u001b[1;34m(self, bind, app)\u001b[0m\n\u001b[0;32m   1096\u001b[0m \u001b[39mdef\u001b[39;00m \u001b[39mdrop_all\u001b[39m(\u001b[39mself\u001b[39m, bind\u001b[39m=\u001b[39m\u001b[39m'\u001b[39m\u001b[39m__all__\u001b[39m\u001b[39m'\u001b[39m, app\u001b[39m=\u001b[39m\u001b[39mNone\u001b[39;00m):\n\u001b[0;32m   1097\u001b[0m     \u001b[39m\"\"\"Drops all tables.\u001b[39;00m\n\u001b[0;32m   1098\u001b[0m \n\u001b[0;32m   1099\u001b[0m \u001b[39m    .. versionchanged:: 0.12\u001b[39;00m\n\u001b[0;32m   1100\u001b[0m \u001b[39m       Parameters were added\u001b[39;00m\n\u001b[0;32m   1101\u001b[0m \u001b[39m    \"\"\"\u001b[39;00m\n\u001b[1;32m-> 1102\u001b[0m     \u001b[39mself\u001b[39;49m\u001b[39m.\u001b[39;49m_execute_for_all_tables(app, bind, \u001b[39m'\u001b[39;49m\u001b[39mdrop_all\u001b[39;49m\u001b[39m'\u001b[39;49m)\n",
      "File \u001b[1;32mc:\\py_projects\\pairs_flask\\env\\lib\\site-packages\\flask_sqlalchemy\\__init__.py:1086\u001b[0m, in \u001b[0;36mSQLAlchemy._execute_for_all_tables\u001b[1;34m(self, app, bind, operation, skip_tables)\u001b[0m\n\u001b[0;32m   1084\u001b[0m     extra[\u001b[39m'\u001b[39m\u001b[39mtables\u001b[39m\u001b[39m'\u001b[39m] \u001b[39m=\u001b[39m tables\n\u001b[0;32m   1085\u001b[0m op \u001b[39m=\u001b[39m \u001b[39mgetattr\u001b[39m(\u001b[39mself\u001b[39m\u001b[39m.\u001b[39mModel\u001b[39m.\u001b[39mmetadata, operation)\n\u001b[1;32m-> 1086\u001b[0m op(bind\u001b[39m=\u001b[39m\u001b[39mself\u001b[39m\u001b[39m.\u001b[39mget_engine(app, bind), \u001b[39m*\u001b[39m\u001b[39m*\u001b[39mextra)\n",
      "File \u001b[1;32mc:\\py_projects\\pairs_flask\\env\\lib\\site-packages\\sqlalchemy\\sql\\schema.py:4893\u001b[0m, in \u001b[0;36mMetaData.drop_all\u001b[1;34m(self, bind, tables, checkfirst)\u001b[0m\n\u001b[0;32m   4891\u001b[0m \u001b[39mif\u001b[39;00m bind \u001b[39mis\u001b[39;00m \u001b[39mNone\u001b[39;00m:\n\u001b[0;32m   4892\u001b[0m     bind \u001b[39m=\u001b[39m _bind_or_error(\u001b[39mself\u001b[39m)\n\u001b[1;32m-> 4893\u001b[0m bind\u001b[39m.\u001b[39;49m_run_ddl_visitor(\n\u001b[0;32m   4894\u001b[0m     ddl\u001b[39m.\u001b[39;49mSchemaDropper, \u001b[39mself\u001b[39;49m, checkfirst\u001b[39m=\u001b[39;49mcheckfirst, tables\u001b[39m=\u001b[39;49mtables\n\u001b[0;32m   4895\u001b[0m )\n",
      "File \u001b[1;32mc:\\py_projects\\pairs_flask\\env\\lib\\site-packages\\sqlalchemy\\engine\\base.py:3122\u001b[0m, in \u001b[0;36mEngine._run_ddl_visitor\u001b[1;34m(self, visitorcallable, element, **kwargs)\u001b[0m\n\u001b[0;32m   3121\u001b[0m \u001b[39mdef\u001b[39;00m \u001b[39m_run_ddl_visitor\u001b[39m(\u001b[39mself\u001b[39m, visitorcallable, element, \u001b[39m*\u001b[39m\u001b[39m*\u001b[39mkwargs):\n\u001b[1;32m-> 3122\u001b[0m     \u001b[39mwith\u001b[39;00m \u001b[39mself\u001b[39;49m\u001b[39m.\u001b[39;49mbegin() \u001b[39mas\u001b[39;00m conn:\n\u001b[0;32m   3123\u001b[0m         conn\u001b[39m.\u001b[39m_run_ddl_visitor(visitorcallable, element, \u001b[39m*\u001b[39m\u001b[39m*\u001b[39mkwargs)\n",
      "File \u001b[1;32mc:\\py_projects\\pairs_flask\\env\\lib\\site-packages\\sqlalchemy\\engine\\base.py:3038\u001b[0m, in \u001b[0;36mEngine.begin\u001b[1;34m(self, close_with_result)\u001b[0m\n\u001b[0;32m   3036\u001b[0m     conn \u001b[39m=\u001b[39m \u001b[39mself\u001b[39m\u001b[39m.\u001b[39mconnect()\n\u001b[0;32m   3037\u001b[0m \u001b[39melse\u001b[39;00m:\n\u001b[1;32m-> 3038\u001b[0m     conn \u001b[39m=\u001b[39m \u001b[39mself\u001b[39;49m\u001b[39m.\u001b[39;49mconnect(close_with_result\u001b[39m=\u001b[39;49mclose_with_result)\n\u001b[0;32m   3039\u001b[0m \u001b[39mtry\u001b[39;00m:\n\u001b[0;32m   3040\u001b[0m     trans \u001b[39m=\u001b[39m conn\u001b[39m.\u001b[39mbegin()\n",
      "File \u001b[1;32mc:\\py_projects\\pairs_flask\\env\\lib\\site-packages\\sqlalchemy\\engine\\base.py:3210\u001b[0m, in \u001b[0;36mEngine.connect\u001b[1;34m(self, close_with_result)\u001b[0m\n\u001b[0;32m   3195\u001b[0m \u001b[39mdef\u001b[39;00m \u001b[39mconnect\u001b[39m(\u001b[39mself\u001b[39m, close_with_result\u001b[39m=\u001b[39m\u001b[39mFalse\u001b[39;00m):\n\u001b[0;32m   3196\u001b[0m     \u001b[39m\"\"\"Return a new :class:`_engine.Connection` object.\u001b[39;00m\n\u001b[0;32m   3197\u001b[0m \n\u001b[0;32m   3198\u001b[0m \u001b[39m    The :class:`_engine.Connection` object is a facade that uses a DBAPI\u001b[39;00m\n\u001b[1;32m   (...)\u001b[0m\n\u001b[0;32m   3207\u001b[0m \n\u001b[0;32m   3208\u001b[0m \u001b[39m    \"\"\"\u001b[39;00m\n\u001b[1;32m-> 3210\u001b[0m     \u001b[39mreturn\u001b[39;00m \u001b[39mself\u001b[39;49m\u001b[39m.\u001b[39;49m_connection_cls(\u001b[39mself\u001b[39;49m, close_with_result\u001b[39m=\u001b[39;49mclose_with_result)\n",
      "File \u001b[1;32mc:\\py_projects\\pairs_flask\\env\\lib\\site-packages\\sqlalchemy\\engine\\base.py:96\u001b[0m, in \u001b[0;36mConnection.__init__\u001b[1;34m(self, engine, connection, close_with_result, _branch_from, _execution_options, _dispatch, _has_events, _allow_revalidate)\u001b[0m\n\u001b[0;32m     91\u001b[0m     \u001b[39mself\u001b[39m\u001b[39m.\u001b[39m_has_events \u001b[39m=\u001b[39m _branch_from\u001b[39m.\u001b[39m_has_events\n\u001b[0;32m     92\u001b[0m \u001b[39melse\u001b[39;00m:\n\u001b[0;32m     93\u001b[0m     \u001b[39mself\u001b[39m\u001b[39m.\u001b[39m_dbapi_connection \u001b[39m=\u001b[39m (\n\u001b[0;32m     94\u001b[0m         connection\n\u001b[0;32m     95\u001b[0m         \u001b[39mif\u001b[39;00m connection \u001b[39mis\u001b[39;00m \u001b[39mnot\u001b[39;00m \u001b[39mNone\u001b[39;00m\n\u001b[1;32m---> 96\u001b[0m         \u001b[39melse\u001b[39;00m engine\u001b[39m.\u001b[39;49mraw_connection()\n\u001b[0;32m     97\u001b[0m     )\n\u001b[0;32m     99\u001b[0m     \u001b[39mself\u001b[39m\u001b[39m.\u001b[39m_transaction \u001b[39m=\u001b[39m \u001b[39mself\u001b[39m\u001b[39m.\u001b[39m_nested_transaction \u001b[39m=\u001b[39m \u001b[39mNone\u001b[39;00m\n\u001b[0;32m    100\u001b[0m     \u001b[39mself\u001b[39m\u001b[39m.\u001b[39m__savepoint_seq \u001b[39m=\u001b[39m \u001b[39m0\u001b[39m\n",
      "File \u001b[1;32mc:\\py_projects\\pairs_flask\\env\\lib\\site-packages\\sqlalchemy\\engine\\base.py:3289\u001b[0m, in \u001b[0;36mEngine.raw_connection\u001b[1;34m(self, _connection)\u001b[0m\n\u001b[0;32m   3267\u001b[0m \u001b[39mdef\u001b[39;00m \u001b[39mraw_connection\u001b[39m(\u001b[39mself\u001b[39m, _connection\u001b[39m=\u001b[39m\u001b[39mNone\u001b[39;00m):\n\u001b[0;32m   3268\u001b[0m     \u001b[39m\"\"\"Return a \"raw\" DBAPI connection from the connection pool.\u001b[39;00m\n\u001b[0;32m   3269\u001b[0m \n\u001b[0;32m   3270\u001b[0m \u001b[39m    The returned object is a proxied version of the DBAPI\u001b[39;00m\n\u001b[1;32m   (...)\u001b[0m\n\u001b[0;32m   3287\u001b[0m \n\u001b[0;32m   3288\u001b[0m \u001b[39m    \"\"\"\u001b[39;00m\n\u001b[1;32m-> 3289\u001b[0m     \u001b[39mreturn\u001b[39;00m \u001b[39mself\u001b[39;49m\u001b[39m.\u001b[39;49m_wrap_pool_connect(\u001b[39mself\u001b[39;49m\u001b[39m.\u001b[39;49mpool\u001b[39m.\u001b[39;49mconnect, _connection)\n",
      "File \u001b[1;32mc:\\py_projects\\pairs_flask\\env\\lib\\site-packages\\sqlalchemy\\engine\\base.py:3259\u001b[0m, in \u001b[0;36mEngine._wrap_pool_connect\u001b[1;34m(self, fn, connection)\u001b[0m\n\u001b[0;32m   3257\u001b[0m \u001b[39mexcept\u001b[39;00m dialect\u001b[39m.\u001b[39mdbapi\u001b[39m.\u001b[39mError \u001b[39mas\u001b[39;00m e:\n\u001b[0;32m   3258\u001b[0m     \u001b[39mif\u001b[39;00m connection \u001b[39mis\u001b[39;00m \u001b[39mNone\u001b[39;00m:\n\u001b[1;32m-> 3259\u001b[0m         Connection\u001b[39m.\u001b[39;49m_handle_dbapi_exception_noconnection(\n\u001b[0;32m   3260\u001b[0m             e, dialect, \u001b[39mself\u001b[39;49m\n\u001b[0;32m   3261\u001b[0m         )\n\u001b[0;32m   3262\u001b[0m     \u001b[39melse\u001b[39;00m:\n\u001b[0;32m   3263\u001b[0m         util\u001b[39m.\u001b[39mraise_(\n\u001b[0;32m   3264\u001b[0m             sys\u001b[39m.\u001b[39mexc_info()[\u001b[39m1\u001b[39m], with_traceback\u001b[39m=\u001b[39msys\u001b[39m.\u001b[39mexc_info()[\u001b[39m2\u001b[39m]\n\u001b[0;32m   3265\u001b[0m         )\n",
      "File \u001b[1;32mc:\\py_projects\\pairs_flask\\env\\lib\\site-packages\\sqlalchemy\\engine\\base.py:2106\u001b[0m, in \u001b[0;36mConnection._handle_dbapi_exception_noconnection\u001b[1;34m(cls, e, dialect, engine)\u001b[0m\n\u001b[0;32m   2104\u001b[0m     util\u001b[39m.\u001b[39mraise_(newraise, with_traceback\u001b[39m=\u001b[39mexc_info[\u001b[39m2\u001b[39m], from_\u001b[39m=\u001b[39me)\n\u001b[0;32m   2105\u001b[0m \u001b[39melif\u001b[39;00m should_wrap:\n\u001b[1;32m-> 2106\u001b[0m     util\u001b[39m.\u001b[39;49mraise_(\n\u001b[0;32m   2107\u001b[0m         sqlalchemy_exception, with_traceback\u001b[39m=\u001b[39;49mexc_info[\u001b[39m2\u001b[39;49m], from_\u001b[39m=\u001b[39;49me\n\u001b[0;32m   2108\u001b[0m     )\n\u001b[0;32m   2109\u001b[0m \u001b[39melse\u001b[39;00m:\n\u001b[0;32m   2110\u001b[0m     util\u001b[39m.\u001b[39mraise_(exc_info[\u001b[39m1\u001b[39m], with_traceback\u001b[39m=\u001b[39mexc_info[\u001b[39m2\u001b[39m])\n",
      "File \u001b[1;32mc:\\py_projects\\pairs_flask\\env\\lib\\site-packages\\sqlalchemy\\util\\compat.py:207\u001b[0m, in \u001b[0;36mraise_\u001b[1;34m(***failed resolving arguments***)\u001b[0m\n\u001b[0;32m    204\u001b[0m     exception\u001b[39m.\u001b[39m__cause__ \u001b[39m=\u001b[39m replace_context\n\u001b[0;32m    206\u001b[0m \u001b[39mtry\u001b[39;00m:\n\u001b[1;32m--> 207\u001b[0m     \u001b[39mraise\u001b[39;00m exception\n\u001b[0;32m    208\u001b[0m \u001b[39mfinally\u001b[39;00m:\n\u001b[0;32m    209\u001b[0m     \u001b[39m# credit to\u001b[39;00m\n\u001b[0;32m    210\u001b[0m     \u001b[39m# https://cosmicpercolator.com/2016/01/13/exception-leaks-in-python-2-and-3/\u001b[39;00m\n\u001b[0;32m    211\u001b[0m     \u001b[39m# as the __traceback__ object creates a cycle\u001b[39;00m\n\u001b[0;32m    212\u001b[0m     \u001b[39mdel\u001b[39;00m exception, replace_context, from_, with_traceback\n",
      "File \u001b[1;32mc:\\py_projects\\pairs_flask\\env\\lib\\site-packages\\sqlalchemy\\engine\\base.py:3256\u001b[0m, in \u001b[0;36mEngine._wrap_pool_connect\u001b[1;34m(self, fn, connection)\u001b[0m\n\u001b[0;32m   3254\u001b[0m dialect \u001b[39m=\u001b[39m \u001b[39mself\u001b[39m\u001b[39m.\u001b[39mdialect\n\u001b[0;32m   3255\u001b[0m \u001b[39mtry\u001b[39;00m:\n\u001b[1;32m-> 3256\u001b[0m     \u001b[39mreturn\u001b[39;00m fn()\n\u001b[0;32m   3257\u001b[0m \u001b[39mexcept\u001b[39;00m dialect\u001b[39m.\u001b[39mdbapi\u001b[39m.\u001b[39mError \u001b[39mas\u001b[39;00m e:\n\u001b[0;32m   3258\u001b[0m     \u001b[39mif\u001b[39;00m connection \u001b[39mis\u001b[39;00m \u001b[39mNone\u001b[39;00m:\n",
      "File \u001b[1;32mc:\\py_projects\\pairs_flask\\env\\lib\\site-packages\\sqlalchemy\\pool\\base.py:310\u001b[0m, in \u001b[0;36mPool.connect\u001b[1;34m(self)\u001b[0m\n\u001b[0;32m    302\u001b[0m \u001b[39mdef\u001b[39;00m \u001b[39mconnect\u001b[39m(\u001b[39mself\u001b[39m):\n\u001b[0;32m    303\u001b[0m     \u001b[39m\"\"\"Return a DBAPI connection from the pool.\u001b[39;00m\n\u001b[0;32m    304\u001b[0m \n\u001b[0;32m    305\u001b[0m \u001b[39m    The connection is instrumented such that when its\u001b[39;00m\n\u001b[1;32m   (...)\u001b[0m\n\u001b[0;32m    308\u001b[0m \n\u001b[0;32m    309\u001b[0m \u001b[39m    \"\"\"\u001b[39;00m\n\u001b[1;32m--> 310\u001b[0m     \u001b[39mreturn\u001b[39;00m _ConnectionFairy\u001b[39m.\u001b[39;49m_checkout(\u001b[39mself\u001b[39;49m)\n",
      "File \u001b[1;32mc:\\py_projects\\pairs_flask\\env\\lib\\site-packages\\sqlalchemy\\pool\\base.py:868\u001b[0m, in \u001b[0;36m_ConnectionFairy._checkout\u001b[1;34m(cls, pool, threadconns, fairy)\u001b[0m\n\u001b[0;32m    865\u001b[0m \u001b[39m@classmethod\u001b[39m\n\u001b[0;32m    866\u001b[0m \u001b[39mdef\u001b[39;00m \u001b[39m_checkout\u001b[39m(\u001b[39mcls\u001b[39m, pool, threadconns\u001b[39m=\u001b[39m\u001b[39mNone\u001b[39;00m, fairy\u001b[39m=\u001b[39m\u001b[39mNone\u001b[39;00m):\n\u001b[0;32m    867\u001b[0m     \u001b[39mif\u001b[39;00m \u001b[39mnot\u001b[39;00m fairy:\n\u001b[1;32m--> 868\u001b[0m         fairy \u001b[39m=\u001b[39m _ConnectionRecord\u001b[39m.\u001b[39;49mcheckout(pool)\n\u001b[0;32m    870\u001b[0m         fairy\u001b[39m.\u001b[39m_pool \u001b[39m=\u001b[39m pool\n\u001b[0;32m    871\u001b[0m         fairy\u001b[39m.\u001b[39m_counter \u001b[39m=\u001b[39m \u001b[39m0\u001b[39m\n",
      "File \u001b[1;32mc:\\py_projects\\pairs_flask\\env\\lib\\site-packages\\sqlalchemy\\pool\\base.py:476\u001b[0m, in \u001b[0;36m_ConnectionRecord.checkout\u001b[1;34m(cls, pool)\u001b[0m\n\u001b[0;32m    474\u001b[0m \u001b[39m@classmethod\u001b[39m\n\u001b[0;32m    475\u001b[0m \u001b[39mdef\u001b[39;00m \u001b[39mcheckout\u001b[39m(\u001b[39mcls\u001b[39m, pool):\n\u001b[1;32m--> 476\u001b[0m     rec \u001b[39m=\u001b[39m pool\u001b[39m.\u001b[39;49m_do_get()\n\u001b[0;32m    477\u001b[0m     \u001b[39mtry\u001b[39;00m:\n\u001b[0;32m    478\u001b[0m         dbapi_connection \u001b[39m=\u001b[39m rec\u001b[39m.\u001b[39mget_connection()\n",
      "File \u001b[1;32mc:\\py_projects\\pairs_flask\\env\\lib\\site-packages\\sqlalchemy\\pool\\impl.py:145\u001b[0m, in \u001b[0;36mQueuePool._do_get\u001b[1;34m(self)\u001b[0m\n\u001b[0;32m    143\u001b[0m         \u001b[39mreturn\u001b[39;00m \u001b[39mself\u001b[39m\u001b[39m.\u001b[39m_create_connection()\n\u001b[0;32m    144\u001b[0m     \u001b[39mexcept\u001b[39;00m:\n\u001b[1;32m--> 145\u001b[0m         \u001b[39mwith\u001b[39;00m util\u001b[39m.\u001b[39msafe_reraise():\n\u001b[0;32m    146\u001b[0m             \u001b[39mself\u001b[39m\u001b[39m.\u001b[39m_dec_overflow()\n\u001b[0;32m    147\u001b[0m \u001b[39melse\u001b[39;00m:\n",
      "File \u001b[1;32mc:\\py_projects\\pairs_flask\\env\\lib\\site-packages\\sqlalchemy\\util\\langhelpers.py:70\u001b[0m, in \u001b[0;36msafe_reraise.__exit__\u001b[1;34m(self, type_, value, traceback)\u001b[0m\n\u001b[0;32m     68\u001b[0m     \u001b[39mself\u001b[39m\u001b[39m.\u001b[39m_exc_info \u001b[39m=\u001b[39m \u001b[39mNone\u001b[39;00m  \u001b[39m# remove potential circular references\u001b[39;00m\n\u001b[0;32m     69\u001b[0m     \u001b[39mif\u001b[39;00m \u001b[39mnot\u001b[39;00m \u001b[39mself\u001b[39m\u001b[39m.\u001b[39mwarn_only:\n\u001b[1;32m---> 70\u001b[0m         compat\u001b[39m.\u001b[39;49mraise_(\n\u001b[0;32m     71\u001b[0m             exc_value,\n\u001b[0;32m     72\u001b[0m             with_traceback\u001b[39m=\u001b[39;49mexc_tb,\n\u001b[0;32m     73\u001b[0m         )\n\u001b[0;32m     74\u001b[0m \u001b[39melse\u001b[39;00m:\n\u001b[0;32m     75\u001b[0m     \u001b[39mif\u001b[39;00m \u001b[39mnot\u001b[39;00m compat\u001b[39m.\u001b[39mpy3k \u001b[39mand\u001b[39;00m \u001b[39mself\u001b[39m\u001b[39m.\u001b[39m_exc_info \u001b[39mand\u001b[39;00m \u001b[39mself\u001b[39m\u001b[39m.\u001b[39m_exc_info[\u001b[39m1\u001b[39m]:\n\u001b[0;32m     76\u001b[0m         \u001b[39m# emulate Py3K's behavior of telling us when an exception\u001b[39;00m\n\u001b[0;32m     77\u001b[0m         \u001b[39m# occurs in an exception handler.\u001b[39;00m\n",
      "File \u001b[1;32mc:\\py_projects\\pairs_flask\\env\\lib\\site-packages\\sqlalchemy\\util\\compat.py:207\u001b[0m, in \u001b[0;36mraise_\u001b[1;34m(***failed resolving arguments***)\u001b[0m\n\u001b[0;32m    204\u001b[0m     exception\u001b[39m.\u001b[39m__cause__ \u001b[39m=\u001b[39m replace_context\n\u001b[0;32m    206\u001b[0m \u001b[39mtry\u001b[39;00m:\n\u001b[1;32m--> 207\u001b[0m     \u001b[39mraise\u001b[39;00m exception\n\u001b[0;32m    208\u001b[0m \u001b[39mfinally\u001b[39;00m:\n\u001b[0;32m    209\u001b[0m     \u001b[39m# credit to\u001b[39;00m\n\u001b[0;32m    210\u001b[0m     \u001b[39m# https://cosmicpercolator.com/2016/01/13/exception-leaks-in-python-2-and-3/\u001b[39;00m\n\u001b[0;32m    211\u001b[0m     \u001b[39m# as the __traceback__ object creates a cycle\u001b[39;00m\n\u001b[0;32m    212\u001b[0m     \u001b[39mdel\u001b[39;00m exception, replace_context, from_, with_traceback\n",
      "File \u001b[1;32mc:\\py_projects\\pairs_flask\\env\\lib\\site-packages\\sqlalchemy\\pool\\impl.py:143\u001b[0m, in \u001b[0;36mQueuePool._do_get\u001b[1;34m(self)\u001b[0m\n\u001b[0;32m    141\u001b[0m \u001b[39mif\u001b[39;00m \u001b[39mself\u001b[39m\u001b[39m.\u001b[39m_inc_overflow():\n\u001b[0;32m    142\u001b[0m     \u001b[39mtry\u001b[39;00m:\n\u001b[1;32m--> 143\u001b[0m         \u001b[39mreturn\u001b[39;00m \u001b[39mself\u001b[39;49m\u001b[39m.\u001b[39;49m_create_connection()\n\u001b[0;32m    144\u001b[0m     \u001b[39mexcept\u001b[39;00m:\n\u001b[0;32m    145\u001b[0m         \u001b[39mwith\u001b[39;00m util\u001b[39m.\u001b[39msafe_reraise():\n",
      "File \u001b[1;32mc:\\py_projects\\pairs_flask\\env\\lib\\site-packages\\sqlalchemy\\pool\\base.py:256\u001b[0m, in \u001b[0;36mPool._create_connection\u001b[1;34m(self)\u001b[0m\n\u001b[0;32m    253\u001b[0m \u001b[39mdef\u001b[39;00m \u001b[39m_create_connection\u001b[39m(\u001b[39mself\u001b[39m):\n\u001b[0;32m    254\u001b[0m     \u001b[39m\"\"\"Called by subclasses to create a new ConnectionRecord.\"\"\"\u001b[39;00m\n\u001b[1;32m--> 256\u001b[0m     \u001b[39mreturn\u001b[39;00m _ConnectionRecord(\u001b[39mself\u001b[39;49m)\n",
      "File \u001b[1;32mc:\\py_projects\\pairs_flask\\env\\lib\\site-packages\\sqlalchemy\\pool\\base.py:371\u001b[0m, in \u001b[0;36m_ConnectionRecord.__init__\u001b[1;34m(self, pool, connect)\u001b[0m\n\u001b[0;32m    369\u001b[0m \u001b[39mself\u001b[39m\u001b[39m.\u001b[39m__pool \u001b[39m=\u001b[39m pool\n\u001b[0;32m    370\u001b[0m \u001b[39mif\u001b[39;00m connect:\n\u001b[1;32m--> 371\u001b[0m     \u001b[39mself\u001b[39;49m\u001b[39m.\u001b[39;49m__connect()\n\u001b[0;32m    372\u001b[0m \u001b[39mself\u001b[39m\u001b[39m.\u001b[39mfinalize_callback \u001b[39m=\u001b[39m deque()\n",
      "File \u001b[1;32mc:\\py_projects\\pairs_flask\\env\\lib\\site-packages\\sqlalchemy\\pool\\base.py:665\u001b[0m, in \u001b[0;36m_ConnectionRecord.__connect\u001b[1;34m(self)\u001b[0m\n\u001b[0;32m    663\u001b[0m     \u001b[39mself\u001b[39m\u001b[39m.\u001b[39mfresh \u001b[39m=\u001b[39m \u001b[39mTrue\u001b[39;00m\n\u001b[0;32m    664\u001b[0m \u001b[39mexcept\u001b[39;00m \u001b[39mException\u001b[39;00m \u001b[39mas\u001b[39;00m e:\n\u001b[1;32m--> 665\u001b[0m     \u001b[39mwith\u001b[39;00m util\u001b[39m.\u001b[39msafe_reraise():\n\u001b[0;32m    666\u001b[0m         pool\u001b[39m.\u001b[39mlogger\u001b[39m.\u001b[39mdebug(\u001b[39m\"\u001b[39m\u001b[39mError on connect(): \u001b[39m\u001b[39m%s\u001b[39;00m\u001b[39m\"\u001b[39m, e)\n\u001b[0;32m    667\u001b[0m \u001b[39melse\u001b[39;00m:\n\u001b[0;32m    668\u001b[0m     \u001b[39m# in SQLAlchemy 1.4 the first_connect event is not used by\u001b[39;00m\n\u001b[0;32m    669\u001b[0m     \u001b[39m# the engine, so this will usually not be set\u001b[39;00m\n",
      "File \u001b[1;32mc:\\py_projects\\pairs_flask\\env\\lib\\site-packages\\sqlalchemy\\util\\langhelpers.py:70\u001b[0m, in \u001b[0;36msafe_reraise.__exit__\u001b[1;34m(self, type_, value, traceback)\u001b[0m\n\u001b[0;32m     68\u001b[0m     \u001b[39mself\u001b[39m\u001b[39m.\u001b[39m_exc_info \u001b[39m=\u001b[39m \u001b[39mNone\u001b[39;00m  \u001b[39m# remove potential circular references\u001b[39;00m\n\u001b[0;32m     69\u001b[0m     \u001b[39mif\u001b[39;00m \u001b[39mnot\u001b[39;00m \u001b[39mself\u001b[39m\u001b[39m.\u001b[39mwarn_only:\n\u001b[1;32m---> 70\u001b[0m         compat\u001b[39m.\u001b[39;49mraise_(\n\u001b[0;32m     71\u001b[0m             exc_value,\n\u001b[0;32m     72\u001b[0m             with_traceback\u001b[39m=\u001b[39;49mexc_tb,\n\u001b[0;32m     73\u001b[0m         )\n\u001b[0;32m     74\u001b[0m \u001b[39melse\u001b[39;00m:\n\u001b[0;32m     75\u001b[0m     \u001b[39mif\u001b[39;00m \u001b[39mnot\u001b[39;00m compat\u001b[39m.\u001b[39mpy3k \u001b[39mand\u001b[39;00m \u001b[39mself\u001b[39m\u001b[39m.\u001b[39m_exc_info \u001b[39mand\u001b[39;00m \u001b[39mself\u001b[39m\u001b[39m.\u001b[39m_exc_info[\u001b[39m1\u001b[39m]:\n\u001b[0;32m     76\u001b[0m         \u001b[39m# emulate Py3K's behavior of telling us when an exception\u001b[39;00m\n\u001b[0;32m     77\u001b[0m         \u001b[39m# occurs in an exception handler.\u001b[39;00m\n",
      "File \u001b[1;32mc:\\py_projects\\pairs_flask\\env\\lib\\site-packages\\sqlalchemy\\util\\compat.py:207\u001b[0m, in \u001b[0;36mraise_\u001b[1;34m(***failed resolving arguments***)\u001b[0m\n\u001b[0;32m    204\u001b[0m     exception\u001b[39m.\u001b[39m__cause__ \u001b[39m=\u001b[39m replace_context\n\u001b[0;32m    206\u001b[0m \u001b[39mtry\u001b[39;00m:\n\u001b[1;32m--> 207\u001b[0m     \u001b[39mraise\u001b[39;00m exception\n\u001b[0;32m    208\u001b[0m \u001b[39mfinally\u001b[39;00m:\n\u001b[0;32m    209\u001b[0m     \u001b[39m# credit to\u001b[39;00m\n\u001b[0;32m    210\u001b[0m     \u001b[39m# https://cosmicpercolator.com/2016/01/13/exception-leaks-in-python-2-and-3/\u001b[39;00m\n\u001b[0;32m    211\u001b[0m     \u001b[39m# as the __traceback__ object creates a cycle\u001b[39;00m\n\u001b[0;32m    212\u001b[0m     \u001b[39mdel\u001b[39;00m exception, replace_context, from_, with_traceback\n",
      "File \u001b[1;32mc:\\py_projects\\pairs_flask\\env\\lib\\site-packages\\sqlalchemy\\pool\\base.py:661\u001b[0m, in \u001b[0;36m_ConnectionRecord.__connect\u001b[1;34m(self)\u001b[0m\n\u001b[0;32m    659\u001b[0m \u001b[39mtry\u001b[39;00m:\n\u001b[0;32m    660\u001b[0m     \u001b[39mself\u001b[39m\u001b[39m.\u001b[39mstarttime \u001b[39m=\u001b[39m time\u001b[39m.\u001b[39mtime()\n\u001b[1;32m--> 661\u001b[0m     \u001b[39mself\u001b[39m\u001b[39m.\u001b[39mdbapi_connection \u001b[39m=\u001b[39m connection \u001b[39m=\u001b[39m pool\u001b[39m.\u001b[39;49m_invoke_creator(\u001b[39mself\u001b[39;49m)\n\u001b[0;32m    662\u001b[0m     pool\u001b[39m.\u001b[39mlogger\u001b[39m.\u001b[39mdebug(\u001b[39m\"\u001b[39m\u001b[39mCreated new connection \u001b[39m\u001b[39m%r\u001b[39;00m\u001b[39m\"\u001b[39m, connection)\n\u001b[0;32m    663\u001b[0m     \u001b[39mself\u001b[39m\u001b[39m.\u001b[39mfresh \u001b[39m=\u001b[39m \u001b[39mTrue\u001b[39;00m\n",
      "File \u001b[1;32mc:\\py_projects\\pairs_flask\\env\\lib\\site-packages\\sqlalchemy\\engine\\create.py:590\u001b[0m, in \u001b[0;36mcreate_engine.<locals>.connect\u001b[1;34m(connection_record)\u001b[0m\n\u001b[0;32m    588\u001b[0m         \u001b[39mif\u001b[39;00m connection \u001b[39mis\u001b[39;00m \u001b[39mnot\u001b[39;00m \u001b[39mNone\u001b[39;00m:\n\u001b[0;32m    589\u001b[0m             \u001b[39mreturn\u001b[39;00m connection\n\u001b[1;32m--> 590\u001b[0m \u001b[39mreturn\u001b[39;00m dialect\u001b[39m.\u001b[39mconnect(\u001b[39m*\u001b[39mcargs, \u001b[39m*\u001b[39m\u001b[39m*\u001b[39mcparams)\n",
      "File \u001b[1;32mc:\\py_projects\\pairs_flask\\env\\lib\\site-packages\\sqlalchemy\\engine\\default.py:597\u001b[0m, in \u001b[0;36mDefaultDialect.connect\u001b[1;34m(self, *cargs, **cparams)\u001b[0m\n\u001b[0;32m    595\u001b[0m \u001b[39mdef\u001b[39;00m \u001b[39mconnect\u001b[39m(\u001b[39mself\u001b[39m, \u001b[39m*\u001b[39mcargs, \u001b[39m*\u001b[39m\u001b[39m*\u001b[39mcparams):\n\u001b[0;32m    596\u001b[0m     \u001b[39m# inherits the docstring from interfaces.Dialect.connect\u001b[39;00m\n\u001b[1;32m--> 597\u001b[0m     \u001b[39mreturn\u001b[39;00m \u001b[39mself\u001b[39m\u001b[39m.\u001b[39mdbapi\u001b[39m.\u001b[39mconnect(\u001b[39m*\u001b[39mcargs, \u001b[39m*\u001b[39m\u001b[39m*\u001b[39mcparams)\n",
      "File \u001b[1;32mc:\\py_projects\\pairs_flask\\env\\lib\\site-packages\\psycopg2\\__init__.py:122\u001b[0m, in \u001b[0;36mconnect\u001b[1;34m(dsn, connection_factory, cursor_factory, **kwargs)\u001b[0m\n\u001b[0;32m    119\u001b[0m     kwasync[\u001b[39m'\u001b[39m\u001b[39masync_\u001b[39m\u001b[39m'\u001b[39m] \u001b[39m=\u001b[39m kwargs\u001b[39m.\u001b[39mpop(\u001b[39m'\u001b[39m\u001b[39masync_\u001b[39m\u001b[39m'\u001b[39m)\n\u001b[0;32m    121\u001b[0m dsn \u001b[39m=\u001b[39m _ext\u001b[39m.\u001b[39mmake_dsn(dsn, \u001b[39m*\u001b[39m\u001b[39m*\u001b[39mkwargs)\n\u001b[1;32m--> 122\u001b[0m conn \u001b[39m=\u001b[39m _connect(dsn, connection_factory\u001b[39m=\u001b[39mconnection_factory, \u001b[39m*\u001b[39m\u001b[39m*\u001b[39mkwasync)\n\u001b[0;32m    123\u001b[0m \u001b[39mif\u001b[39;00m cursor_factory \u001b[39mis\u001b[39;00m \u001b[39mnot\u001b[39;00m \u001b[39mNone\u001b[39;00m:\n\u001b[0;32m    124\u001b[0m     conn\u001b[39m.\u001b[39mcursor_factory \u001b[39m=\u001b[39m cursor_factory\n",
      "\u001b[1;31mOperationalError\u001b[0m: (psycopg2.OperationalError) connection to server at \"localhost\" (::1), port 5432 failed: Connection refused (0x0000274D/10061)\n\tIs the server running on that host and accepting TCP/IP connections?\nconnection to server at \"localhost\" (127.0.0.1), port 5432 failed: Connection refused (0x0000274D/10061)\n\tIs the server running on that host and accepting TCP/IP connections?\n\n(Background on this error at: https://sqlalche.me/e/14/e3q8)"
     ]
    }
   ],
   "source": [
    "db.drop_all()\n",
    "db.create_all()"
   ]
  },
  {
   "cell_type": "code",
   "execution_count": 14,
   "metadata": {},
   "outputs": [],
   "source": [
    "# symbol =Symbol()\n",
    "# with db.engine.connect() as conn:\n",
    "#     conn.execute(symbol.insert(), symbol_names_for_inserting)"
   ]
  },
  {
   "cell_type": "code",
   "execution_count": 6,
   "metadata": {},
   "outputs": [],
   "source": [
    "db.session.close()\n",
    "db.session.rollback()"
   ]
  },
  {
   "cell_type": "code",
   "execution_count": 39,
   "metadata": {},
   "outputs": [
    {
     "name": "stdout",
     "output_type": "stream",
     "text": [
      "Index(['AAPL', 'AMZN', 'BRK-B', 'FB', 'GOOG', 'GOOGL', 'MSFT', 'NVDA', 'TSLA',\n",
      "       'UNH'],\n",
      "      dtype='object')\n"
     ]
    }
   ],
   "source": [
    "print(symbol_names_for_inserting)\n",
    "for ticker in symbol_names_for_inserting:\n",
    "    symbol_name = Symbol(symbol_name=ticker)\n",
    "    db.session.add(symbol_name)\n",
    "try:\n",
    "    db.session.commit()\n",
    "except:\n",
    "    db.session.rollback()\n",
    "    raise\n",
    "finally:\n",
    "    db.session.close()\n"
   ]
  },
  {
   "cell_type": "code",
   "execution_count": 6,
   "metadata": {},
   "outputs": [],
   "source": [
    "# Symbol.query.delete()\n",
    "# db.session.commit()"
   ]
  },
  {
   "cell_type": "code",
   "execution_count": 40,
   "metadata": {},
   "outputs": [],
   "source": [
    "from app.models import Price\n",
    "from app.models import Symbol\n",
    "# from datetime import datetime"
   ]
  },
  {
   "cell_type": "code",
   "execution_count": 20,
   "metadata": {},
   "outputs": [],
   "source": [
    "price = 15.0\n",
    "ticker = 'FB'\n",
    "date = '02.04.2022'\n",
    "# symbol_id = "
   ]
  },
  {
   "cell_type": "code",
   "execution_count": 21,
   "metadata": {},
   "outputs": [
    {
     "data": {
      "text/plain": [
       "<Symbol FB, Date: 02.04.2022 , Price: 15.0>"
      ]
     },
     "execution_count": 21,
     "metadata": {},
     "output_type": "execute_result"
    }
   ],
   "source": [
    "# aapl_price = Price(date=date, symbol_name=ticker, price=aapl_price)\n",
    "fb_prices = Price(date=date, \n",
    "                  symbol_name=ticker, \n",
    "                  price=fb_price, \n",
    "                  symbol_id = Symbol.query.filter_by(symbol_name=ticker).first().id )\n",
    "# fb_prices = Price(symbol_id=fb_prices.id)\n",
    "fb_prices"
   ]
  },
  {
   "cell_type": "code",
   "execution_count": 22,
   "metadata": {},
   "outputs": [
    {
     "data": {
      "text/plain": [
       "<flask_sqlalchemy.BaseQuery at 0x1c2a64df3d0>"
      ]
     },
     "execution_count": 22,
     "metadata": {},
     "output_type": "execute_result"
    }
   ],
   "source": [
    "# query_symbol = Symbol.query.filter_by(symbol_name=ticker).first()\n",
    "Symbol.query.filter_by(symbol_name=ticker)"
   ]
  },
  {
   "cell_type": "code",
   "execution_count": 23,
   "metadata": {},
   "outputs": [],
   "source": [
    "db.session.rollback()"
   ]
  },
  {
   "cell_type": "code",
   "execution_count": 23,
   "metadata": {},
   "outputs": [],
   "source": [
    "db.session.add(fb_prices)"
   ]
  },
  {
   "cell_type": "code",
   "execution_count": 24,
   "metadata": {},
   "outputs": [],
   "source": [
    "db.session.commit()"
   ]
  },
  {
   "cell_type": "code",
   "execution_count": 19,
   "metadata": {},
   "outputs": [
    {
     "name": "stdout",
     "output_type": "stream",
     "text": [
      "10\n"
     ]
    },
    {
     "data": {
      "text/plain": [
       "[<Symbol AAPL>,\n",
       " <Symbol AMZN>,\n",
       " <Symbol BRK-B>,\n",
       " <Symbol FB>,\n",
       " <Symbol GOOG>,\n",
       " <Symbol GOOGL>,\n",
       " <Symbol MSFT>,\n",
       " <Symbol NVDA>,\n",
       " <Symbol TSLA>,\n",
       " <Symbol UNH>]"
      ]
     },
     "execution_count": 19,
     "metadata": {},
     "output_type": "execute_result"
    }
   ],
   "source": [
    "print(len(Symbol.query.all()))\n",
    "Symbol.query.all()"
   ]
  },
  {
   "cell_type": "code",
   "execution_count": 11,
   "metadata": {},
   "outputs": [
    {
     "data": {
      "text/html": [
       "<div>\n",
       "<style scoped>\n",
       "    .dataframe tbody tr th:only-of-type {\n",
       "        vertical-align: middle;\n",
       "    }\n",
       "\n",
       "    .dataframe tbody tr th {\n",
       "        vertical-align: top;\n",
       "    }\n",
       "\n",
       "    .dataframe thead th {\n",
       "        text-align: right;\n",
       "    }\n",
       "</style>\n",
       "<table border=\"1\" class=\"dataframe\">\n",
       "  <thead>\n",
       "    <tr style=\"text-align: right;\">\n",
       "      <th></th>\n",
       "      <th>AAPL</th>\n",
       "      <th>AMZN</th>\n",
       "      <th>BRK-B</th>\n",
       "      <th>FB</th>\n",
       "      <th>GOOG</th>\n",
       "      <th>GOOGL</th>\n",
       "      <th>MSFT</th>\n",
       "      <th>NVDA</th>\n",
       "      <th>TSLA</th>\n",
       "      <th>UNH</th>\n",
       "    </tr>\n",
       "    <tr>\n",
       "      <th>Date</th>\n",
       "      <th></th>\n",
       "      <th></th>\n",
       "      <th></th>\n",
       "      <th></th>\n",
       "      <th></th>\n",
       "      <th></th>\n",
       "      <th></th>\n",
       "      <th></th>\n",
       "      <th></th>\n",
       "      <th></th>\n",
       "    </tr>\n",
       "  </thead>\n",
       "  <tbody>\n",
       "    <tr>\n",
       "      <th>2022-01-03</th>\n",
       "      <td>181.778397</td>\n",
       "      <td>3408.090088</td>\n",
       "      <td>300.790009</td>\n",
       "      <td>338.540009</td>\n",
       "      <td>2901.489990</td>\n",
       "      <td>2899.830078</td>\n",
       "      <td>334.059265</td>\n",
       "      <td>301.158691</td>\n",
       "      <td>1199.780029</td>\n",
       "      <td>500.798035</td>\n",
       "    </tr>\n",
       "    <tr>\n",
       "      <th>2022-01-04</th>\n",
       "      <td>179.471344</td>\n",
       "      <td>3350.439941</td>\n",
       "      <td>308.529999</td>\n",
       "      <td>336.529999</td>\n",
       "      <td>2888.330078</td>\n",
       "      <td>2887.989990</td>\n",
       "      <td>328.331116</td>\n",
       "      <td>292.850098</td>\n",
       "      <td>1149.589966</td>\n",
       "      <td>489.451599</td>\n",
       "    </tr>\n",
       "    <tr>\n",
       "      <th>2022-01-05</th>\n",
       "      <td>174.697418</td>\n",
       "      <td>3287.139893</td>\n",
       "      <td>309.920013</td>\n",
       "      <td>324.170013</td>\n",
       "      <td>2753.070068</td>\n",
       "      <td>2755.500000</td>\n",
       "      <td>315.727173</td>\n",
       "      <td>275.992981</td>\n",
       "      <td>1088.119995</td>\n",
       "      <td>488.245178</td>\n",
       "    </tr>\n",
       "    <tr>\n",
       "      <th>2022-01-06</th>\n",
       "      <td>171.781143</td>\n",
       "      <td>3265.080078</td>\n",
       "      <td>313.220001</td>\n",
       "      <td>332.459991</td>\n",
       "      <td>2751.020020</td>\n",
       "      <td>2754.949951</td>\n",
       "      <td>313.232330</td>\n",
       "      <td>281.731995</td>\n",
       "      <td>1064.699951</td>\n",
       "      <td>468.264282</td>\n",
       "    </tr>\n",
       "    <tr>\n",
       "      <th>2022-01-07</th>\n",
       "      <td>171.950928</td>\n",
       "      <td>3251.080078</td>\n",
       "      <td>319.779999</td>\n",
       "      <td>331.790009</td>\n",
       "      <td>2740.090088</td>\n",
       "      <td>2740.340088</td>\n",
       "      <td>313.391998</td>\n",
       "      <td>272.423584</td>\n",
       "      <td>1026.959961</td>\n",
       "      <td>457.246918</td>\n",
       "    </tr>\n",
       "    <tr>\n",
       "      <th>2022-01-10</th>\n",
       "      <td>171.970901</td>\n",
       "      <td>3229.719971</td>\n",
       "      <td>318.929993</td>\n",
       "      <td>328.070007</td>\n",
       "      <td>2771.479980</td>\n",
       "      <td>2773.389893</td>\n",
       "      <td>313.621521</td>\n",
       "      <td>273.953339</td>\n",
       "      <td>1058.119995</td>\n",
       "      <td>463.628021</td>\n",
       "    </tr>\n",
       "    <tr>\n",
       "      <th>2022-01-11</th>\n",
       "      <td>174.857224</td>\n",
       "      <td>3307.239990</td>\n",
       "      <td>319.799988</td>\n",
       "      <td>334.369995</td>\n",
       "      <td>2800.350098</td>\n",
       "      <td>2794.719971</td>\n",
       "      <td>314.330078</td>\n",
       "      <td>278.122620</td>\n",
       "      <td>1064.400024</td>\n",
       "      <td>467.616211</td>\n",
       "    </tr>\n",
       "    <tr>\n",
       "      <th>2022-01-12</th>\n",
       "      <td>175.306641</td>\n",
       "      <td>3304.139893</td>\n",
       "      <td>320.390015</td>\n",
       "      <td>333.260010</td>\n",
       "      <td>2832.959961</td>\n",
       "      <td>2828.610107</td>\n",
       "      <td>317.613251</td>\n",
       "      <td>279.942291</td>\n",
       "      <td>1106.219971</td>\n",
       "      <td>472.322296</td>\n",
       "    </tr>\n",
       "    <tr>\n",
       "      <th>2022-01-13</th>\n",
       "      <td>171.970901</td>\n",
       "      <td>3224.280029</td>\n",
       "      <td>321.260010</td>\n",
       "      <td>326.480011</td>\n",
       "      <td>2782.620117</td>\n",
       "      <td>2771.739990</td>\n",
       "      <td>304.171051</td>\n",
       "      <td>265.704742</td>\n",
       "      <td>1031.560059</td>\n",
       "      <td>466.050842</td>\n",
       "    </tr>\n",
       "    <tr>\n",
       "      <th>2022-01-14</th>\n",
       "      <td>172.849792</td>\n",
       "      <td>3242.760010</td>\n",
       "      <td>324.130005</td>\n",
       "      <td>331.899994</td>\n",
       "      <td>2795.729980</td>\n",
       "      <td>2789.610107</td>\n",
       "      <td>309.559937</td>\n",
       "      <td>269.374115</td>\n",
       "      <td>1049.609985</td>\n",
       "      <td>467.307129</td>\n",
       "    </tr>\n",
       "  </tbody>\n",
       "</table>\n",
       "</div>"
      ],
      "text/plain": [
       "                  AAPL         AMZN       BRK-B          FB         GOOG  \\\n",
       "Date                                                                       \n",
       "2022-01-03  181.778397  3408.090088  300.790009  338.540009  2901.489990   \n",
       "2022-01-04  179.471344  3350.439941  308.529999  336.529999  2888.330078   \n",
       "2022-01-05  174.697418  3287.139893  309.920013  324.170013  2753.070068   \n",
       "2022-01-06  171.781143  3265.080078  313.220001  332.459991  2751.020020   \n",
       "2022-01-07  171.950928  3251.080078  319.779999  331.790009  2740.090088   \n",
       "2022-01-10  171.970901  3229.719971  318.929993  328.070007  2771.479980   \n",
       "2022-01-11  174.857224  3307.239990  319.799988  334.369995  2800.350098   \n",
       "2022-01-12  175.306641  3304.139893  320.390015  333.260010  2832.959961   \n",
       "2022-01-13  171.970901  3224.280029  321.260010  326.480011  2782.620117   \n",
       "2022-01-14  172.849792  3242.760010  324.130005  331.899994  2795.729980   \n",
       "\n",
       "                  GOOGL        MSFT        NVDA         TSLA         UNH  \n",
       "Date                                                                      \n",
       "2022-01-03  2899.830078  334.059265  301.158691  1199.780029  500.798035  \n",
       "2022-01-04  2887.989990  328.331116  292.850098  1149.589966  489.451599  \n",
       "2022-01-05  2755.500000  315.727173  275.992981  1088.119995  488.245178  \n",
       "2022-01-06  2754.949951  313.232330  281.731995  1064.699951  468.264282  \n",
       "2022-01-07  2740.340088  313.391998  272.423584  1026.959961  457.246918  \n",
       "2022-01-10  2773.389893  313.621521  273.953339  1058.119995  463.628021  \n",
       "2022-01-11  2794.719971  314.330078  278.122620  1064.400024  467.616211  \n",
       "2022-01-12  2828.610107  317.613251  279.942291  1106.219971  472.322296  \n",
       "2022-01-13  2771.739990  304.171051  265.704742  1031.560059  466.050842  \n",
       "2022-01-14  2789.610107  309.559937  269.374115  1049.609985  467.307129  "
      ]
     },
     "execution_count": 11,
     "metadata": {},
     "output_type": "execute_result"
    }
   ],
   "source": [
    "data"
   ]
  },
  {
   "cell_type": "code",
   "execution_count": 24,
   "metadata": {},
   "outputs": [],
   "source": [
    "# for symbol in Symbol.query.all():\n",
    "#     print(symbol.symbol_name)\n",
    "db.session.close()"
   ]
  },
  {
   "cell_type": "code",
   "execution_count": 41,
   "metadata": {},
   "outputs": [],
   "source": [
    "symbols = Symbol.query.all()\n",
    "for symbol in symbols:\n",
    "    ticker = symbol.symbol_name\n",
    "    for date,price in zip(data[ticker].index, data[ticker]):\n",
    "        symbol_price = Price(date=date, \n",
    "                             symbol_name=symbol.symbol_name, \n",
    "                             price=price, \n",
    "                             symbol_id = Symbol.query.filter_by(symbol_name=symbol.symbol_name).first().id )\n",
    "        db.session.add(symbol_price)\n",
    "        db.session.commit()\n",
    "db.session.close()"
   ]
  },
  {
   "cell_type": "code",
   "execution_count": 68,
   "metadata": {},
   "outputs": [
    {
     "name": "stdout",
     "output_type": "stream",
     "text": [
      "2022-01-03 00:00:00 181.7783966064453\n",
      "2022-01-04 00:00:00 179.47134399414062\n",
      "2022-01-05 00:00:00 174.69741821289062\n",
      "2022-01-06 00:00:00 171.78114318847656\n",
      "2022-01-07 00:00:00 171.950927734375\n",
      "2022-01-10 00:00:00 171.9709014892578\n",
      "2022-01-11 00:00:00 174.8572235107422\n",
      "2022-01-12 00:00:00 175.306640625\n",
      "2022-01-13 00:00:00 171.9709014892578\n",
      "2022-01-14 00:00:00 172.84979248046875\n"
     ]
    }
   ],
   "source": [
    "# data = get_data(sp10)\n",
    "data.head(10)\n",
    "data.AAPL.index\n",
    "for i,j in zip(data.AAPL.index, data.AAPL):\n",
    "    print(i,j)"
   ]
  },
  {
   "cell_type": "code",
   "execution_count": 17,
   "metadata": {},
   "outputs": [
    {
     "name": "stdout",
     "output_type": "stream",
     "text": [
      "9\n",
      "3\n",
      "7\n",
      "3\n"
     ]
    },
    {
     "data": {
      "text/plain": [
       "22"
      ]
     },
     "execution_count": 17,
     "metadata": {},
     "output_type": "execute_result"
    }
   ],
   "source": [
    "def sum_mix(arr):\n",
    "    index = 0\n",
    "    for i in arr:\n",
    "        if type(i) != int:\n",
    "            arr[index] = int(i)\n",
    "        index+=1\n",
    "    return sum(arr)\n",
    "\n",
    "sum_mix([9, 3, '7', '3'])"
   ]
  },
  {
   "cell_type": "code",
   "execution_count": 21,
   "metadata": {},
   "outputs": [
    {
     "name": "stdout",
     "output_type": "stream",
     "text": [
      "356\n"
     ]
    },
    {
     "data": {
      "text/plain": [
       "4"
      ]
     },
     "execution_count": 21,
     "metadata": {},
     "output_type": "execute_result"
    }
   ],
   "source": [
    "def century(year):\n",
    "    if year < 100:\n",
    "        return 1\n",
    "    elif 100 < year < 1000 :\n",
    "        print(year)\n",
    "        return  year // 100 + 1\n",
    "    elif 1000 < year < 1900 :\n",
    "        return year // 100 + 1\n",
    "    else: return year // 100\n",
    "\n",
    "century(356)"
   ]
  },
  {
   "cell_type": "code",
   "execution_count": null,
   "metadata": {},
   "outputs": [],
   "source": []
  },
  {
   "cell_type": "code",
   "execution_count": null,
   "metadata": {},
   "outputs": [],
   "source": []
  },
  {
   "cell_type": "code",
   "execution_count": null,
   "metadata": {},
   "outputs": [],
   "source": []
  },
  {
   "cell_type": "code",
   "execution_count": null,
   "metadata": {},
   "outputs": [],
   "source": []
  },
  {
   "cell_type": "code",
   "execution_count": null,
   "metadata": {},
   "outputs": [],
   "source": []
  },
  {
   "cell_type": "code",
   "execution_count": null,
   "metadata": {},
   "outputs": [],
   "source": []
  },
  {
   "cell_type": "code",
   "execution_count": null,
   "metadata": {},
   "outputs": [],
   "source": []
  },
  {
   "cell_type": "code",
   "execution_count": null,
   "metadata": {},
   "outputs": [],
   "source": []
  }
 ],
 "metadata": {
  "interpreter": {
   "hash": "740c8bb996b3968bcd6d175370cc59072c2c1f693fee426efcd1a46fbbb6ddf7"
  },
  "kernelspec": {
   "display_name": "Python 3.7.2 ('env': venv)",
   "language": "python",
   "name": "python3"
  },
  "language_info": {
   "codemirror_mode": {
    "name": "ipython",
    "version": 3
   },
   "file_extension": ".py",
   "mimetype": "text/x-python",
   "name": "python",
   "nbconvert_exporter": "python",
   "pygments_lexer": "ipython3",
   "version": "3.12.0"
  },
  "orig_nbformat": 4
 },
 "nbformat": 4,
 "nbformat_minor": 2
}
