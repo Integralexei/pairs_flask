{
 "cells": [
  {
   "cell_type": "code",
   "execution_count": 5,
   "metadata": {},
   "outputs": [
    {
     "name": "stdout",
     "output_type": "stream",
     "text": [
      "1\n"
     ]
    }
   ],
   "source": [
    "a = {1,2,3,4}\n",
    "b = {4}\n",
    "print(len(a&b))"
   ]
  }
 ],
 "metadata": {
  "interpreter": {
   "hash": "740c8bb996b3968bcd6d175370cc59072c2c1f693fee426efcd1a46fbbb6ddf7"
  },
  "kernelspec": {
   "display_name": "Python 3.7.2 ('env': venv)",
   "language": "python",
   "name": "python3"
  },
  "language_info": {
   "codemirror_mode": {
    "name": "ipython",
    "version": 3
   },
   "file_extension": ".py",
   "mimetype": "text/x-python",
   "name": "python",
   "nbconvert_exporter": "python",
   "pygments_lexer": "ipython3",
   "version": "3.7.2"
  },
  "orig_nbformat": 4
 },
 "nbformat": 4,
 "nbformat_minor": 2
}
